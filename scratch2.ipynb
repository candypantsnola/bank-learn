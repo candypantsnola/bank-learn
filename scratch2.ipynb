{
 "cells": [
  {
   "cell_type": "code",
   "execution_count": 3,
   "metadata": {},
   "outputs": [],
   "source": [
    "import random\n",
    "import re\n",
    "import sys\n",
    "import traceback\n",
    "\n",
    "from sklearn.feature_extraction.text import CountVectorizer\n",
    "from sklearn.naive_bayes import MultinomialNB\n",
    "from sklearn.pipeline import Pipeline\n",
    "\n",
    "filename = 'bank_transactions.csv'\n",
    "\n",
    "def read_lines(filename):\n",
    "    lines = []\n",
    "    with open(filename) as fd:\n",
    "        l = fd.readline()\n",
    "        while l != \"\":\n",
    "            #if re.match(\"^\\d{4}/\\d{2}/\\d{2};\", l):\n",
    "                # Only consider line starting with a valid date\n",
    "                # This allows skipping header, and possible comments\n",
    "            lines.append(l.strip())\n",
    "            l = fd.readline()\n",
    "    return lines"
   ]
  },
  {
   "cell_type": "code",
   "execution_count": null,
   "metadata": {},
   "outputs": [],
   "source": [
    "read_lines(filename)"
   ]
  },
  {
   "cell_type": "code",
   "execution_count": 16,
   "metadata": {},
   "outputs": [],
   "source": [
    "def __init_training_set(training_fname):\n",
    "    training_set = read_lines(training_fname)\n",
    "    transactions = [\",\".join(l.split(',')[:-1]) for l in training_set]\n",
    "    categories   = [         l.split(',')[-1]   for l in training_set]\n",
    "    return transactions"
   ]
  },
  {
   "cell_type": "code",
   "execution_count": 22,
   "metadata": {},
   "outputs": [
    {
     "ename": "ValueError",
     "evalue": "could not convert string to float: 'amount'",
     "output_type": "error",
     "traceback": [
      "\u001b[1;31m---------------------------------------------------------------------------\u001b[0m",
      "\u001b[1;31mValueError\u001b[0m                                Traceback (most recent call last)",
      "\u001b[1;32mc:\\Users\\cborison\\bank-learn\\scratch2.ipynb Cell 4'\u001b[0m in \u001b[0;36m<module>\u001b[1;34m\u001b[0m\n\u001b[0;32m      <a href='vscode-notebook-cell:/c%3A/Users/cborison/bank-learn/scratch2.ipynb#ch0000004?line=0'>1</a>\u001b[0m training_fname \u001b[39m=\u001b[39m \u001b[39m'\u001b[39m\u001b[39mtraining_set.csv\u001b[39m\u001b[39m'\u001b[39m\n\u001b[0;32m      <a href='vscode-notebook-cell:/c%3A/Users/cborison/bank-learn/scratch2.ipynb#ch0000004?line=2'>3</a>\u001b[0m transacs \u001b[39m=\u001b[39m __init_training_set(training_fname)\n\u001b[1;32m----> <a href='vscode-notebook-cell:/c%3A/Users/cborison/bank-learn/scratch2.ipynb#ch0000004?line=4'>5</a>\u001b[0m amount \u001b[39m=\u001b[39m \u001b[39msum\u001b[39m([\u001b[39mfloat\u001b[39m(v\u001b[39m.\u001b[39msplit(\u001b[39m'\u001b[39m\u001b[39m,\u001b[39m\u001b[39m'\u001b[39m)[\u001b[39m-\u001b[39m\u001b[39m1\u001b[39m]\u001b[39m.\u001b[39mreplace(\u001b[39m'\u001b[39m\u001b[39m \u001b[39m\u001b[39m'\u001b[39m,\u001b[39m'\u001b[39m\u001b[39m'\u001b[39m)) \u001b[39mfor\u001b[39;00m v \u001b[39min\u001b[39;00m transacs])\n\u001b[0;32m      <a href='vscode-notebook-cell:/c%3A/Users/cborison/bank-learn/scratch2.ipynb#ch0000004?line=6'>7</a>\u001b[0m \u001b[39mprint\u001b[39m(amount)\n",
      "\u001b[1;32mc:\\Users\\cborison\\bank-learn\\scratch2.ipynb Cell 4'\u001b[0m in \u001b[0;36m<listcomp>\u001b[1;34m(.0)\u001b[0m\n\u001b[0;32m      <a href='vscode-notebook-cell:/c%3A/Users/cborison/bank-learn/scratch2.ipynb#ch0000004?line=0'>1</a>\u001b[0m training_fname \u001b[39m=\u001b[39m \u001b[39m'\u001b[39m\u001b[39mtraining_set.csv\u001b[39m\u001b[39m'\u001b[39m\n\u001b[0;32m      <a href='vscode-notebook-cell:/c%3A/Users/cborison/bank-learn/scratch2.ipynb#ch0000004?line=2'>3</a>\u001b[0m transacs \u001b[39m=\u001b[39m __init_training_set(training_fname)\n\u001b[1;32m----> <a href='vscode-notebook-cell:/c%3A/Users/cborison/bank-learn/scratch2.ipynb#ch0000004?line=4'>5</a>\u001b[0m amount \u001b[39m=\u001b[39m \u001b[39msum\u001b[39m([\u001b[39mfloat\u001b[39;49m(v\u001b[39m.\u001b[39;49msplit(\u001b[39m'\u001b[39;49m\u001b[39m,\u001b[39;49m\u001b[39m'\u001b[39;49m)[\u001b[39m-\u001b[39;49m\u001b[39m1\u001b[39;49m]\u001b[39m.\u001b[39;49mreplace(\u001b[39m'\u001b[39;49m\u001b[39m \u001b[39;49m\u001b[39m'\u001b[39;49m,\u001b[39m'\u001b[39;49m\u001b[39m'\u001b[39;49m)) \u001b[39mfor\u001b[39;00m v \u001b[39min\u001b[39;00m transacs])\n\u001b[0;32m      <a href='vscode-notebook-cell:/c%3A/Users/cborison/bank-learn/scratch2.ipynb#ch0000004?line=6'>7</a>\u001b[0m \u001b[39mprint\u001b[39m(amount)\n",
      "\u001b[1;31mValueError\u001b[0m: could not convert string to float: 'amount'"
     ]
    }
   ],
   "source": [
    "training_fname = 'training_set.csv'\n",
    "\n",
    "transacs = __init_training_set(training_fname)\n",
    "\n",
    "amount = sum([float(v.split(',')[-1].replace(' ','')) for v in transacs])\n",
    "\n",
    "print(amount)"
   ]
  }
 ],
 "metadata": {
  "kernelspec": {
   "display_name": "Python 3.9.6 64-bit",
   "language": "python",
   "name": "python3"
  },
  "language_info": {
   "codemirror_mode": {
    "name": "ipython",
    "version": 3
   },
   "file_extension": ".py",
   "mimetype": "text/x-python",
   "name": "python",
   "nbconvert_exporter": "python",
   "pygments_lexer": "ipython3",
   "version": "3.9.6"
  },
  "orig_nbformat": 4,
  "vscode": {
   "interpreter": {
    "hash": "98752f5b1e9ff9f8ab7ebc8a912b0c328d6dce4e1d9613a9adb73e9798863ad1"
   }
  }
 },
 "nbformat": 4,
 "nbformat_minor": 2
}
